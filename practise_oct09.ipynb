{
  "nbformat": 4,
  "nbformat_minor": 0,
  "metadata": {
    "colab": {
      "provenance": [],
      "collapsed_sections": [],
      "authorship_tag": "ABX9TyMTWDe7OiRyVDcsuXaxboQi",
      "include_colab_link": true
    },
    "kernelspec": {
      "name": "python3",
      "display_name": "Python 3"
    },
    "language_info": {
      "name": "python"
    }
  },
  "cells": [
    {
      "cell_type": "markdown",
      "metadata": {
        "id": "view-in-github",
        "colab_type": "text"
      },
      "source": [
        "<a href=\"https://colab.research.google.com/github/jitu519/example_neurolab/blob/master/practise_oct09.ipynb\" target=\"_parent\"><img src=\"https://colab.research.google.com/assets/colab-badge.svg\" alt=\"Open In Colab\"/></a>"
      ]
    },
    {
      "cell_type": "code",
      "execution_count": null,
      "metadata": {
        "colab": {
          "base_uri": "https://localhost:8080/"
        },
        "id": "pbhBmQJzO6xS",
        "outputId": "867291e5-50f8-449b-b890-b552ce57ff73"
      },
      "outputs": [
        {
          "output_type": "stream",
          "name": "stdout",
          "text": [
            "cart total: = 805\n",
            "total_amount: 805\n",
            "pay: 644.0\n"
          ]
        }
      ],
      "source": [
        "total_amount = 90+100+53+562\n",
        "print(f\"cart total: = {total_amount}\")\n",
        "if total_amount > 1000:\n",
        "  price_after_discount = total_amount*0.3\n",
        "  print(f\"pay: {price_after_discount}\")\n",
        "  print(\"price_after_discount\")\n",
        "elif 400 <= total_amount <= 1000:\n",
        "      print(f\"total_amount: {total_amount}\")\n",
        "      price_after_discount = total_amount*0.8\n",
        "      print(f\"pay: {price_after_discount}\")\n",
        "else:\n",
        "   print(f\"pay: {total_amount}\")"
      ]
    },
    {
      "cell_type": "code",
      "source": [
        "val = float(input())\n",
        "if val >=0:\n",
        "  if val == 0:\n",
        "    print('Its a zero')\n",
        "  else:\n",
        "     print(\"its a positive no.\")\n",
        "else: \n",
        "  print(\"its a negative no.\")"
      ],
      "metadata": {
        "colab": {
          "base_uri": "https://localhost:8080/"
        },
        "id": "fBVVZbcVQwlK",
        "outputId": "8f8c36d0-890c-40ce-b7fd-ad095e02b7b6"
      },
      "execution_count": null,
      "outputs": [
        {
          "output_type": "stream",
          "name": "stdout",
          "text": [
            "0\n",
            "Its a zero\n"
          ]
        }
      ]
    },
    {
      "cell_type": "code",
      "source": [
        "val = float(input(\"enter_a_number\"))\n",
        "if val>99: print(\"yes\")\n",
        "else: print(\"no\")"
      ],
      "metadata": {
        "colab": {
          "base_uri": "https://localhost:8080/"
        },
        "id": "WWjdR8ZBUpra",
        "outputId": "df3ac8fc-9f99-4e0f-8908-429d8df578b8"
      },
      "execution_count": null,
      "outputs": [
        {
          "output_type": "stream",
          "name": "stdout",
          "text": [
            "enter_a_number99\n",
            "no\n"
          ]
        }
      ]
    },
    {
      "cell_type": "code",
      "source": [],
      "metadata": {
        "id": "B35ClPlBW9IW"
      },
      "execution_count": null,
      "outputs": []
    },
    {
      "cell_type": "code",
      "source": [
        "cutoff = 400\n",
        "scores = [100,200,300,399,450]\n",
        "year = 0\n",
        "\n",
        "while scores[year] < cutoff:\n",
        "  print(f\"Your score is: {scores[year]} , cutoff: {cutoff}\")\n",
        "  print(\"I will try next year\")\n",
        "  year = year+1"
      ],
      "metadata": {
        "colab": {
          "base_uri": "https://localhost:8080/"
        },
        "id": "3mKH4wtLVmTQ",
        "outputId": "8c85be85-0523-4faf-97d6-f6907363869c"
      },
      "execution_count": null,
      "outputs": [
        {
          "output_type": "stream",
          "name": "stdout",
          "text": [
            "Your score is: 100 , cutoff: 400\n",
            "I will try next year\n",
            "Your score is: 200 , cutoff: 400\n",
            "I will try next year\n",
            "Your score is: 300 , cutoff: 400\n",
            "I will try next year\n",
            "Your score is: 399 , cutoff: 400\n",
            "I will try next year\n"
          ]
        }
      ]
    },
    {
      "cell_type": "code",
      "source": [
        "notes = 10\n",
        "i = 1\n",
        "while i <= notes:\n",
        "  print(f\"current sum = {i*10}\")\n",
        "  i = i + 1"
      ],
      "metadata": {
        "colab": {
          "base_uri": "https://localhost:8080/"
        },
        "id": "tH4GxR91XO1S",
        "outputId": "b1410765-3ee6-41cc-80d0-49c6911ff6de"
      },
      "execution_count": null,
      "outputs": [
        {
          "output_type": "stream",
          "name": "stdout",
          "text": [
            "current sum = 10\n",
            "current sum = 20\n",
            "current sum = 30\n",
            "current sum = 40\n",
            "current sum = 50\n",
            "current sum = 60\n",
            "current sum = 70\n",
            "current sum = 80\n",
            "current sum = 90\n",
            "current sum = 100\n"
          ]
        }
      ]
    },
    {
      "cell_type": "code",
      "source": [
        "stations = [\"s1\",\"s2\",\"s3\",\"s4\"]\n",
        "current_station = 0\n",
        "destination_station = \"s3\"\n",
        "while stations[current_station] != destination_station:\n",
        "  print(\"I have not reached\")\n",
        "  current_station = current_station + 1\n",
        "\n"
      ],
      "metadata": {
        "colab": {
          "base_uri": "https://localhost:8080/"
        },
        "id": "OLdH_mTVYfOy",
        "outputId": "ca784971-e217-450e-f6f0-7e0367a027a2"
      },
      "execution_count": null,
      "outputs": [
        {
          "output_type": "stream",
          "name": "stdout",
          "text": [
            "I have not reached\n",
            "I have not reached\n"
          ]
        }
      ]
    },
    {
      "cell_type": "code",
      "source": [
        "stations = [\"s1\",\"s2\",\"s3\",\"s4\"]\n",
        "current_station = 0\n",
        "destination_station = \"s3\"\n",
        "while stations[current_station] != destination_station:\n",
        "  print(\"I have not reached\")\n",
        "  current_station = current_station + 1\n",
        "  print(\"-----\")\n",
        "else:\n",
        "  print(\"I have reached\")"
      ],
      "metadata": {
        "colab": {
          "base_uri": "https://localhost:8080/"
        },
        "id": "QjNqbU0vbcTm",
        "outputId": "46cba5fd-2540-43c1-be58-8b2f583c0cd0"
      },
      "execution_count": null,
      "outputs": [
        {
          "output_type": "stream",
          "name": "stdout",
          "text": [
            "I have not reached\n",
            "-----\n",
            "I have not reached\n",
            "-----\n",
            "I have reached\n"
          ]
        }
      ]
    },
    {
      "cell_type": "code",
      "source": [
        "for i in range(0,10)\n",
        "print(\"10 * {i} = {i*10}\")"
      ],
      "metadata": {
        "colab": {
          "base_uri": "https://localhost:8080/",
          "height": 130
        },
        "id": "szY0btaSdtON",
        "outputId": "3c66905e-9f90-40dc-f28e-b914ec6e1086"
      },
      "execution_count": null,
      "outputs": [
        {
          "output_type": "error",
          "ename": "SyntaxError",
          "evalue": "ignored",
          "traceback": [
            "\u001b[0;36m  File \u001b[0;32m\"<ipython-input-36-72285774e116>\"\u001b[0;36m, line \u001b[0;32m1\u001b[0m\n\u001b[0;31m    for i in range(0,10)\u001b[0m\n\u001b[0m                        ^\u001b[0m\n\u001b[0;31mSyntaxError\u001b[0m\u001b[0;31m:\u001b[0m invalid syntax\n"
          ]
        }
      ]
    },
    {
      "cell_type": "code",
      "source": [
        "for i in range(0,10)\n",
        "print(f\"10 * {i} = {i*10}\")"
      ],
      "metadata": {
        "colab": {
          "base_uri": "https://localhost:8080/",
          "height": 130
        },
        "id": "Hd6zIHJafR52",
        "outputId": "680796db-2f2d-4e2d-c90c-c68d188413f1"
      },
      "execution_count": null,
      "outputs": [
        {
          "output_type": "error",
          "ename": "SyntaxError",
          "evalue": "ignored",
          "traceback": [
            "\u001b[0;36m  File \u001b[0;32m\"<ipython-input-37-7df36a243e59>\"\u001b[0;36m, line \u001b[0;32m1\u001b[0m\n\u001b[0;31m    for i in range(0,10)\u001b[0m\n\u001b[0m                        ^\u001b[0m\n\u001b[0;31mSyntaxError\u001b[0m\u001b[0;31m:\u001b[0m invalid syntax\n"
          ]
        }
      ]
    },
    {
      "cell_type": "code",
      "source": [
        "for i in range(0,10):\n",
        "print(f\"10 * {i} = {i*10}\")"
      ],
      "metadata": {
        "colab": {
          "base_uri": "https://localhost:8080/",
          "height": 130
        },
        "id": "qyKTVsAxfXOE",
        "outputId": "0e07abd3-7843-444e-b7a3-b58ad541a396"
      },
      "execution_count": null,
      "outputs": [
        {
          "output_type": "error",
          "ename": "IndentationError",
          "evalue": "ignored",
          "traceback": [
            "\u001b[0;36m  File \u001b[0;32m\"<ipython-input-39-296b7f7003e1>\"\u001b[0;36m, line \u001b[0;32m2\u001b[0m\n\u001b[0;31m    print(f\"10 * {i} = {i*10}\")\u001b[0m\n\u001b[0m        ^\u001b[0m\n\u001b[0;31mIndentationError\u001b[0m\u001b[0;31m:\u001b[0m expected an indented block\n"
          ]
        }
      ]
    },
    {
      "cell_type": "code",
      "source": [
        "for i in range(0,10)\n",
        "  print(f\"10 * {i} = {i*10}\")"
      ],
      "metadata": {
        "colab": {
          "base_uri": "https://localhost:8080/",
          "height": 130
        },
        "id": "k_r5jGgBfdcg",
        "outputId": "030e2fc5-2ffe-48d8-8db0-d26a0db3058f"
      },
      "execution_count": null,
      "outputs": [
        {
          "output_type": "error",
          "ename": "SyntaxError",
          "evalue": "ignored",
          "traceback": [
            "\u001b[0;36m  File \u001b[0;32m\"<ipython-input-40-0cf39e46c894>\"\u001b[0;36m, line \u001b[0;32m1\u001b[0m\n\u001b[0;31m    for i in range(0,10)\u001b[0m\n\u001b[0m                        ^\u001b[0m\n\u001b[0;31mSyntaxError\u001b[0m\u001b[0;31m:\u001b[0m invalid syntax\n"
          ]
        }
      ]
    },
    {
      "cell_type": "code",
      "source": [
        "for i in range(0,10):\n",
        "  print(f\"10 * {i} = {i*10}\")"
      ],
      "metadata": {
        "colab": {
          "base_uri": "https://localhost:8080/"
        },
        "id": "UYxfGzLTf1TR",
        "outputId": "3ac0d54c-da74-40e9-a43c-1d9d167c00a9"
      },
      "execution_count": null,
      "outputs": [
        {
          "output_type": "stream",
          "name": "stdout",
          "text": [
            "10 * 0 = 0\n",
            "10 * 1 = 10\n",
            "10 * 2 = 20\n",
            "10 * 3 = 30\n",
            "10 * 4 = 40\n",
            "10 * 5 = 50\n",
            "10 * 6 = 60\n",
            "10 * 7 = 70\n",
            "10 * 8 = 80\n",
            "10 * 9 = 90\n"
          ]
        }
      ]
    },
    {
      "cell_type": "code",
      "source": [
        "for i in range(1,11):\n",
        "  print(f\"10 * {i} = {i*10}\")"
      ],
      "metadata": {
        "colab": {
          "base_uri": "https://localhost:8080/"
        },
        "id": "rDHf5h1Jf729",
        "outputId": "781dc3ac-9a57-4a50-d041-d4caf7812bd4"
      },
      "execution_count": null,
      "outputs": [
        {
          "output_type": "stream",
          "name": "stdout",
          "text": [
            "10 * 1 = 10\n",
            "10 * 2 = 20\n",
            "10 * 3 = 30\n",
            "10 * 4 = 40\n",
            "10 * 5 = 50\n",
            "10 * 6 = 60\n",
            "10 * 7 = 70\n",
            "10 * 8 = 80\n",
            "10 * 9 = 90\n",
            "10 * 10 = 100\n"
          ]
        }
      ]
    },
    {
      "cell_type": "code",
      "source": [
        "for i in range(1,11):\n",
        "  print(\"*\"*i)"
      ],
      "metadata": {
        "colab": {
          "base_uri": "https://localhost:8080/"
        },
        "id": "X42YIpSWgImA",
        "outputId": "e0be6620-ec54-46db-d4c0-cb6cd3dbffb1"
      },
      "execution_count": null,
      "outputs": [
        {
          "output_type": "stream",
          "name": "stdout",
          "text": [
            "*\n",
            "**\n",
            "***\n",
            "****\n",
            "*****\n",
            "******\n",
            "*******\n",
            "********\n",
            "*********\n",
            "**********\n"
          ]
        }
      ]
    },
    {
      "cell_type": "code",
      "source": [
        "for i in range(1,11):\n",
        "  print(f\"*\"*{i})"
      ],
      "metadata": {
        "colab": {
          "base_uri": "https://localhost:8080/",
          "height": 182
        },
        "id": "BLjttS22glvT",
        "outputId": "03055796-ddee-4a24-c0f3-d87cb3916bd6"
      },
      "execution_count": null,
      "outputs": [
        {
          "output_type": "error",
          "ename": "TypeError",
          "evalue": "ignored",
          "traceback": [
            "\u001b[0;31m---------------------------------------------------------------------------\u001b[0m",
            "\u001b[0;31mTypeError\u001b[0m                                 Traceback (most recent call last)",
            "\u001b[0;32m<ipython-input-44-8f66c96a8456>\u001b[0m in \u001b[0;36m<module>\u001b[0;34m\u001b[0m\n\u001b[1;32m      1\u001b[0m \u001b[0;32mfor\u001b[0m \u001b[0mi\u001b[0m \u001b[0;32min\u001b[0m \u001b[0mrange\u001b[0m\u001b[0;34m(\u001b[0m\u001b[0;36m1\u001b[0m\u001b[0;34m,\u001b[0m\u001b[0;36m11\u001b[0m\u001b[0;34m)\u001b[0m\u001b[0;34m:\u001b[0m\u001b[0;34m\u001b[0m\u001b[0;34m\u001b[0m\u001b[0m\n\u001b[0;32m----> 2\u001b[0;31m   \u001b[0mprint\u001b[0m\u001b[0;34m(\u001b[0m\u001b[0;34mf\"*\"\u001b[0m\u001b[0;34m*\u001b[0m\u001b[0;34m{\u001b[0m\u001b[0mi\u001b[0m\u001b[0;34m}\u001b[0m\u001b[0;34m)\u001b[0m\u001b[0;34m\u001b[0m\u001b[0;34m\u001b[0m\u001b[0m\n\u001b[0m",
            "\u001b[0;31mTypeError\u001b[0m: can't multiply sequence by non-int of type 'set'"
          ]
        }
      ]
    },
    {
      "cell_type": "code",
      "source": [
        "cost_of_items = [10,50,60,800]\n",
        "total_sum = 0\n",
        "for i in range(0,4):\n",
        "  print(f\"sum after adding {total_sum} , {total_sum} + {cost_of_items[i]}\")\n",
        "  total_sum = total_sum + cost_of_items[i]\n",
        "  \n",
        "  print(total_sum)\n",
        "\n"
      ],
      "metadata": {
        "colab": {
          "base_uri": "https://localhost:8080/"
        },
        "id": "cQq-w0a-g438",
        "outputId": "bab1c828-34c1-449e-ab45-79b6cadbcbc3"
      },
      "execution_count": null,
      "outputs": [
        {
          "output_type": "stream",
          "name": "stdout",
          "text": [
            "sum after adding 0 , 0 + 10\n",
            "10\n",
            "sum after adding 10 , 10 + 50\n",
            "60\n",
            "sum after adding 60 , 60 + 60\n",
            "120\n",
            "sum after adding 120 , 120 + 800\n",
            "920\n"
          ]
        }
      ]
    },
    {
      "cell_type": "code",
      "source": [
        "cost_of_items = [10,50,60,800]\n",
        "total_sum = 0\n",
        "N = len(cost_of_items)\n",
        "for i in range(0,N):\n",
        "  print(f\"sum after adding {total_sum} , {total_sum} + {cost_of_items[i]}\")\n",
        "  total_sum = total_sum + cost_of_items[i]\n",
        "  \n",
        "  print(total_sum)"
      ],
      "metadata": {
        "colab": {
          "base_uri": "https://localhost:8080/"
        },
        "id": "VwAcbZ0VipBp",
        "outputId": "50250988-ea49-40eb-e259-3c19ab0a13e1"
      },
      "execution_count": null,
      "outputs": [
        {
          "output_type": "stream",
          "name": "stdout",
          "text": [
            "sum after adding 0 , 0 + 10\n",
            "10\n",
            "sum after adding 10 , 10 + 50\n",
            "60\n",
            "sum after adding 60 , 60 + 60\n",
            "120\n",
            "sum after adding 120 , 120 + 800\n",
            "920\n"
          ]
        }
      ]
    },
    {
      "cell_type": "code",
      "source": [
        "cost_of_items = [10,50,60,800]\n",
        "total_sum = 0\n",
        "for cost in cost_of_items:\n",
        "  print(f\"sum after adding {total_sum} , {total_sum} + {cost}\")\n",
        "  total_sum = total_sum + cost\n",
        "  \n",
        "  print(f\"total_sum = {total_sum}\")"
      ],
      "metadata": {
        "colab": {
          "base_uri": "https://localhost:8080/"
        },
        "id": "JV0VMiZvkO-Y",
        "outputId": "e49a7517-932d-4e83-97ae-b07eb74aa048"
      },
      "execution_count": null,
      "outputs": [
        {
          "output_type": "stream",
          "name": "stdout",
          "text": [
            "sum after adding 0 , 0 + 10\n",
            "total_sum = 10\n",
            "sum after adding 10 , 10 + 50\n",
            "total_sum = 60\n",
            "sum after adding 60 , 60 + 60\n",
            "total_sum = 120\n",
            "sum after adding 120 , 120 + 800\n",
            "total_sum = 920\n"
          ]
        }
      ]
    },
    {
      "cell_type": "code",
      "source": [
        "cost_of_items = [10,50,60,800]\n",
        "for cost in cost_of_items:\n",
        "  print(cost)"
      ],
      "metadata": {
        "colab": {
          "base_uri": "https://localhost:8080/"
        },
        "id": "BYCdaXpnkrkn",
        "outputId": "9aa788e5-d39c-477e-aea9-8104a6398960"
      },
      "execution_count": null,
      "outputs": [
        {
          "output_type": "stream",
          "name": "stdout",
          "text": [
            "10\n",
            "50\n",
            "60\n",
            "800\n"
          ]
        }
      ]
    },
    {
      "cell_type": "code",
      "source": [
        "stations = [\"Station 01\", \"Station 02\", \"Station 03\", \"Station 04\"]\n",
        "for current_station in stations:\n",
        "  print(f\"current_station is {current_station}\")"
      ],
      "metadata": {
        "colab": {
          "base_uri": "https://localhost:8080/"
        },
        "id": "UqNadL2yoa2G",
        "outputId": "581fac0a-9c0c-44ba-fa55-6ee230ea0b96"
      },
      "execution_count": null,
      "outputs": [
        {
          "output_type": "stream",
          "name": "stdout",
          "text": [
            "current_station is Station 01\n",
            "current_station is Station 02\n",
            "current_station is Station 03\n",
            "current_station is Station 04\n"
          ]
        }
      ]
    },
    {
      "cell_type": "code",
      "source": [],
      "metadata": {
        "id": "XvekpfR_pg1K"
      },
      "execution_count": null,
      "outputs": []
    },
    {
      "cell_type": "markdown",
      "source": [
        "#Break and Continue\n"
      ],
      "metadata": {
        "id": "PTd_ObufqGkz"
      }
    },
    {
      "cell_type": "code",
      "source": [
        "cost_of_items = [100, 200, 129, 456, 1000, 199, 299]\n",
        "#                 0    1    2    3\n",
        "budget = 1000\n",
        "total_sum = 0\n",
        "\n",
        "for cost in cost_of_items:\n",
        "  total_sum = total_sum + cost\n",
        "  print(f\"total_sum = {total_sum} + {cost}\")\n",
        "  if total_sum > budget:\n",
        "    total_sum = total_sum - cost\n",
        "    print(f\"total_sum = {total_sum}\")\n",
        "    break\n",
        "\n",
        "print(f\"total_sum = {total_sum}\")"
      ],
      "metadata": {
        "id": "YiXSD4WeqLy9",
        "colab": {
          "base_uri": "https://localhost:8080/"
        },
        "outputId": "06832bfc-6d10-427b-cafa-4422880036a5"
      },
      "execution_count": null,
      "outputs": [
        {
          "output_type": "stream",
          "name": "stdout",
          "text": [
            "total_sum = 100 + 100\n",
            "total_sum = 300 + 200\n",
            "total_sum = 429 + 129\n",
            "total_sum = 885 + 456\n",
            "total_sum = 1885 + 1000\n",
            "total_sum = 885\n",
            "total_sum = 885\n"
          ]
        }
      ]
    },
    {
      "cell_type": "code",
      "source": [
        "cost_of_items = [100, 200, 129, 456, 1000, 199, 299]\n",
        "#                 0    1    2    3\n",
        "\n",
        "total_sum = 0\n",
        "budget = 2000\n",
        "\n",
        "for cost in cost_of_items:\n",
        "  total_sum = total_sum + cost\n",
        "  print(f\"current total: {total_sum}\")\n",
        "  if total_sum > budget:\n",
        "    print(f\"since current total is more than my budget: {budget}\")\n",
        "    print(\"please remove the last item\")\n",
        "    total_sum = total_sum - cost\n",
        "    break\n",
        "\n",
        "print(f'total amount to be paid: {total_sum}')"
      ],
      "metadata": {
        "colab": {
          "base_uri": "https://localhost:8080/"
        },
        "id": "lCmUEOgo23B6",
        "outputId": "37731c13-c38a-4ed9-fb4e-59cd1f68c2dd"
      },
      "execution_count": null,
      "outputs": [
        {
          "output_type": "stream",
          "name": "stdout",
          "text": [
            "current total: 100\n",
            "current total: 300\n",
            "current total: 429\n",
            "current total: 885\n",
            "current total: 1885\n",
            "current total: 2084\n",
            "since current total is more than my budget: 2000\n",
            "please remove the last item\n",
            "total amount to be paid: 1885\n"
          ]
        }
      ]
    },
    {
      "cell_type": "code",
      "source": [
        "for i in range(1,20):\n",
        "  print(i)\n",
        "  if i > 10:\n",
        "    \n",
        "    break"
      ],
      "metadata": {
        "colab": {
          "base_uri": "https://localhost:8080/"
        },
        "id": "1dBtg72A4XgP",
        "outputId": "d56dfdcb-c5a2-45ba-d578-679f0f81ec1c"
      },
      "execution_count": null,
      "outputs": [
        {
          "output_type": "stream",
          "name": "stdout",
          "text": [
            "1\n",
            "2\n",
            "3\n",
            "4\n",
            "5\n",
            "6\n",
            "7\n",
            "8\n",
            "9\n",
            "10\n",
            "11\n"
          ]
        }
      ]
    },
    {
      "cell_type": "code",
      "source": [
        "for i in range(1,20):\n",
        "  print(i)\n",
        "  if i >= 10:\n",
        "    \n",
        "    break"
      ],
      "metadata": {
        "colab": {
          "base_uri": "https://localhost:8080/"
        },
        "id": "lHuwCcPK6KM5",
        "outputId": "ab763c8a-8a77-4128-e7cc-d1c45cc2d6ff"
      },
      "execution_count": null,
      "outputs": [
        {
          "output_type": "stream",
          "name": "stdout",
          "text": [
            "1\n",
            "2\n",
            "3\n",
            "4\n",
            "5\n",
            "6\n",
            "7\n",
            "8\n",
            "9\n",
            "10\n"
          ]
        }
      ]
    },
    {
      "cell_type": "code",
      "source": [
        "for i in range(1, 20):\n",
        "  if i%2==0: # if no is even then start the loop again\n",
        "    continue\n",
        "    print(i)"
      ],
      "metadata": {
        "id": "R9iT_29o6euO"
      },
      "execution_count": null,
      "outputs": []
    },
    {
      "cell_type": "code",
      "source": [
        "for i in range(1, 20):\n",
        "  if i%2==0: # if no is even then start the loop again\n",
        "    continue\n",
        "  print(i)"
      ],
      "metadata": {
        "colab": {
          "base_uri": "https://localhost:8080/"
        },
        "id": "Mxbfu02461kQ",
        "outputId": "2de003a4-cdc6-44d1-c697-f1de47ec18be"
      },
      "execution_count": null,
      "outputs": [
        {
          "output_type": "stream",
          "name": "stdout",
          "text": [
            "1\n",
            "3\n",
            "5\n",
            "7\n",
            "9\n",
            "11\n",
            "13\n",
            "15\n",
            "17\n",
            "19\n"
          ]
        }
      ]
    },
    {
      "cell_type": "code",
      "source": [
        "for i in range(1,20):\n",
        "  if i%2 != 0:\n",
        "    continue\n",
        "  print(i)"
      ],
      "metadata": {
        "colab": {
          "base_uri": "https://localhost:8080/"
        },
        "id": "JTay8bV765Pe",
        "outputId": "0a6241be-f585-431c-9385-5e190795ff4b"
      },
      "execution_count": null,
      "outputs": [
        {
          "output_type": "stream",
          "name": "stdout",
          "text": [
            "2\n",
            "4\n",
            "6\n",
            "8\n",
            "10\n",
            "12\n",
            "14\n",
            "16\n",
            "18\n"
          ]
        }
      ]
    },
    {
      "cell_type": "code",
      "source": [
        "for i in range(1, 20):\n",
        "  if i%2!=0: #\n",
        "    break # STOP THE LOOP DON't proceed at all\n",
        "  print(i)"
      ],
      "metadata": {
        "id": "fjNKBSzO72rC"
      },
      "execution_count": null,
      "outputs": []
    },
    {
      "cell_type": "code",
      "source": [
        "stations = [\"Station 01\", \"Station 02\", \"Station 03\", \"Station 04\"]\n",
        "\n",
        "for current_station in stations:\n",
        "  if current_station == \"Station 02\":\n",
        "    pass\n",
        "  print(f\"Current station is: {current_station}\")"
      ],
      "metadata": {
        "colab": {
          "base_uri": "https://localhost:8080/"
        },
        "id": "IwnfL6hS8Gwa",
        "outputId": "2d3daee7-cef8-464a-bf0d-1b1e25843890"
      },
      "execution_count": null,
      "outputs": [
        {
          "output_type": "stream",
          "name": "stdout",
          "text": [
            "Current station is: Station 01\n",
            "Current station is: Station 02\n",
            "Current station is: Station 03\n",
            "Current station is: Station 04\n"
          ]
        }
      ]
    },
    {
      "cell_type": "code",
      "source": [
        "stations = [\"Station 01\", \"Station 02\", \"Station 03\", \"Station 04\"]\n",
        "\n",
        "for current_station in stations:\n",
        "  if current_station == \"Station 02\":\n",
        "    break\n",
        "  print(f\"Current station is: {current_station}\")"
      ],
      "metadata": {
        "colab": {
          "base_uri": "https://localhost:8080/"
        },
        "id": "qTNju0hA86Jn",
        "outputId": "c829aa37-350b-4b37-ea00-217edc010d56"
      },
      "execution_count": null,
      "outputs": [
        {
          "output_type": "stream",
          "name": "stdout",
          "text": [
            "Current station is: Station 01\n"
          ]
        }
      ]
    },
    {
      "cell_type": "code",
      "source": [
        "stations = [\"Station 01\", \"Station 02\", \"Station 03\", \"Station 04\"]\n",
        "\n",
        "for current_station in stations:\n",
        "  if current_station == \"Station 02\":\n",
        "    continue\n",
        "  print(f\"Current station is: {current_station}\")"
      ],
      "metadata": {
        "colab": {
          "base_uri": "https://localhost:8080/"
        },
        "id": "NwuYvaUH8-7C",
        "outputId": "53828a38-1f24-4d54-98dd-cb6a7db0ef5d"
      },
      "execution_count": null,
      "outputs": [
        {
          "output_type": "stream",
          "name": "stdout",
          "text": [
            "Current station is: Station 01\n",
            "Current station is: Station 03\n",
            "Current station is: Station 04\n"
          ]
        }
      ]
    },
    {
      "cell_type": "code",
      "source": [],
      "metadata": {
        "id": "TI8GnbDq9F3v"
      },
      "execution_count": null,
      "outputs": []
    },
    {
      "cell_type": "code",
      "source": [],
      "metadata": {
        "id": "v2iUIT7I98h4"
      },
      "execution_count": null,
      "outputs": []
    }
  ]
}